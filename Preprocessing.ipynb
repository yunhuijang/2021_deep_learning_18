{
 "cells": [
  {
   "cell_type": "code",
   "execution_count": 32,
   "id": "e97e4317",
   "metadata": {},
   "outputs": [],
   "source": [
    "import pandas as pd\n",
    "\n",
    "import nltk\n",
    "from nltk.corpus import stopwords\n",
    "from nltk.tokenize import word_tokenize \n",
    "\n",
    "import re\n",
    "\n",
    "from collections import Counter"
   ]
  },
  {
   "cell_type": "code",
   "execution_count": 40,
   "id": "effa63e2",
   "metadata": {},
   "outputs": [],
   "source": [
    "input_data = 'train_final.csv'\n",
    "output_data = 'train_final_tokenized.csv'"
   ]
  },
  {
   "cell_type": "code",
   "execution_count": 41,
   "id": "d1fc67ae",
   "metadata": {},
   "outputs": [
    {
     "name": "stdout",
     "output_type": "stream",
     "text": [
      "<class 'pandas.core.frame.DataFrame'>\n",
      "RangeIndex: 11544 entries, 0 to 11543\n",
      "Data columns (total 3 columns):\n",
      " #   Column    Non-Null Count  Dtype \n",
      "---  ------    --------------  ----- \n",
      " 0   Id        11544 non-null  int64 \n",
      " 1   Category  11544 non-null  int64 \n",
      " 2   Sentence  11544 non-null  object\n",
      "dtypes: int64(2), object(1)\n",
      "memory usage: 270.7+ KB\n"
     ]
    }
   ],
   "source": [
    "df = pd.read_csv(input_data)\n",
    "df.info()"
   ]
  },
  {
   "cell_type": "code",
   "execution_count": 42,
   "id": "9239fdc7",
   "metadata": {},
   "outputs": [],
   "source": [
    "tokencol = []\n",
    "stop_words = set(stopwords.words('english'))\n",
    "punct = {'.', ',', '?', '!', '@', '#', '$', '%', '^', '&', '*', '(', ')', '-', '_', '-lrb-', '-rrb-', '`', '...', \"'\", ';', ':', '--', '``', }\n",
    "for Sentence in df['Sentence']:\n",
    "    result = []\n",
    "    token = word_tokenize(Sentence.lower())\n",
    "    for word in token:\n",
    "        if word not in stop_words and word not in punct:\n",
    "            result.append(word)\n",
    "    tokencol.append(result)\n",
    "df['Token'] = tokencol"
   ]
  },
  {
   "cell_type": "code",
   "execution_count": 43,
   "id": "ec6687f5",
   "metadata": {
    "scrolled": true
   },
   "outputs": [
    {
     "data": {
      "text/html": [
       "<div>\n",
       "<style scoped>\n",
       "    .dataframe tbody tr th:only-of-type {\n",
       "        vertical-align: middle;\n",
       "    }\n",
       "\n",
       "    .dataframe tbody tr th {\n",
       "        vertical-align: top;\n",
       "    }\n",
       "\n",
       "    .dataframe thead th {\n",
       "        text-align: right;\n",
       "    }\n",
       "</style>\n",
       "<table border=\"1\" class=\"dataframe\">\n",
       "  <thead>\n",
       "    <tr style=\"text-align: right;\">\n",
       "      <th></th>\n",
       "      <th>Id</th>\n",
       "      <th>Category</th>\n",
       "      <th>Sentence</th>\n",
       "      <th>Token</th>\n",
       "    </tr>\n",
       "  </thead>\n",
       "  <tbody>\n",
       "    <tr>\n",
       "      <th>0</th>\n",
       "      <td>0</td>\n",
       "      <td>3</td>\n",
       "      <td>-LRB- The film -RRB- tackles the topic of rela...</td>\n",
       "      <td>[film, tackles, topic, relationships, straight...</td>\n",
       "    </tr>\n",
       "    <tr>\n",
       "      <th>1</th>\n",
       "      <td>1</td>\n",
       "      <td>2</td>\n",
       "      <td>Lavishly , exhilaratingly tasteless .</td>\n",
       "      <td>[lavishly, exhilaratingly, tasteless]</td>\n",
       "    </tr>\n",
       "    <tr>\n",
       "      <th>2</th>\n",
       "      <td>2</td>\n",
       "      <td>4</td>\n",
       "      <td>It is also beautifully acted .</td>\n",
       "      <td>[also, beautifully, acted]</td>\n",
       "    </tr>\n",
       "    <tr>\n",
       "      <th>3</th>\n",
       "      <td>3</td>\n",
       "      <td>1</td>\n",
       "      <td>But , like Silence , it 's a movie that gets u...</td>\n",
       "      <td>[like, silence, 's, movie, gets, skin]</td>\n",
       "    </tr>\n",
       "    <tr>\n",
       "      <th>4</th>\n",
       "      <td>4</td>\n",
       "      <td>2</td>\n",
       "      <td>It 's been made with an innocent yet fervid co...</td>\n",
       "      <td>['s, made, innocent, yet, fervid, conviction, ...</td>\n",
       "    </tr>\n",
       "  </tbody>\n",
       "</table>\n",
       "</div>"
      ],
      "text/plain": [
       "   Id  Category                                           Sentence  \\\n",
       "0   0         3  -LRB- The film -RRB- tackles the topic of rela...   \n",
       "1   1         2              Lavishly , exhilaratingly tasteless .   \n",
       "2   2         4                     It is also beautifully acted .   \n",
       "3   3         1  But , like Silence , it 's a movie that gets u...   \n",
       "4   4         2  It 's been made with an innocent yet fervid co...   \n",
       "\n",
       "                                               Token  \n",
       "0  [film, tackles, topic, relationships, straight...  \n",
       "1              [lavishly, exhilaratingly, tasteless]  \n",
       "2                         [also, beautifully, acted]  \n",
       "3             [like, silence, 's, movie, gets, skin]  \n",
       "4  ['s, made, innocent, yet, fervid, conviction, ...  "
      ]
     },
     "execution_count": 43,
     "metadata": {},
     "output_type": "execute_result"
    }
   ],
   "source": [
    "df.head()"
   ]
  },
  {
   "cell_type": "code",
   "execution_count": 14,
   "id": "70d3b268",
   "metadata": {},
   "outputs": [],
   "source": [
    "import torch\n",
    "import transformers as ppb # pytorch transformers\n",
    "from sklearn.linear_model import LogisticRegression\n",
    "from sklearn.model_selection import cross_val_score\n",
    "from sklearn.model_selection import train_test_split"
   ]
  },
  {
   "cell_type": "code",
   "execution_count": 15,
   "id": "110888c0",
   "metadata": {},
   "outputs": [
    {
     "name": "stderr",
     "output_type": "stream",
     "text": [
      "Some weights of the model checkpoint at bert-base-uncased were not used when initializing BertModel: ['cls.seq_relationship.bias', 'cls.predictions.transform.LayerNorm.bias', 'cls.predictions.decoder.weight', 'cls.predictions.transform.dense.weight', 'cls.predictions.transform.dense.bias', 'cls.predictions.bias', 'cls.seq_relationship.weight', 'cls.predictions.transform.LayerNorm.weight']\n",
      "- This IS expected if you are initializing BertModel from the checkpoint of a model trained on another task or with another architecture (e.g. initializing a BertForSequenceClassification model from a BertForPreTraining model).\n",
      "- This IS NOT expected if you are initializing BertModel from the checkpoint of a model that you expect to be exactly identical (initializing a BertForSequenceClassification model from a BertForSequenceClassification model).\n"
     ]
    }
   ],
   "source": [
    "model_class, tokenizer_class, pretrained_weights = (ppb.BertModel, ppb.BertTokenizer, 'bert-base-uncased')\n",
    "\n",
    "# Load pretrained model/tokenizer\n",
    "tokenizer = tokenizer_class.from_pretrained(pretrained_weights)\n",
    "model = model_class.from_pretrained(pretrained_weights)"
   ]
  },
  {
   "cell_type": "code",
   "execution_count": 44,
   "id": "547dd947",
   "metadata": {},
   "outputs": [],
   "source": [
    "tokenized = df['Sentence'].apply((lambda x: tokenizer.encode(x, add_special_tokens=True)))\n",
    "df['BERTToken']=tokenized"
   ]
  },
  {
   "cell_type": "code",
   "execution_count": 45,
   "id": "5683c2bc",
   "metadata": {},
   "outputs": [
    {
     "data": {
      "text/html": [
       "<div>\n",
       "<style scoped>\n",
       "    .dataframe tbody tr th:only-of-type {\n",
       "        vertical-align: middle;\n",
       "    }\n",
       "\n",
       "    .dataframe tbody tr th {\n",
       "        vertical-align: top;\n",
       "    }\n",
       "\n",
       "    .dataframe thead th {\n",
       "        text-align: right;\n",
       "    }\n",
       "</style>\n",
       "<table border=\"1\" class=\"dataframe\">\n",
       "  <thead>\n",
       "    <tr style=\"text-align: right;\">\n",
       "      <th></th>\n",
       "      <th>Id</th>\n",
       "      <th>Category</th>\n",
       "      <th>Sentence</th>\n",
       "      <th>Token</th>\n",
       "      <th>BERTToken</th>\n",
       "    </tr>\n",
       "  </thead>\n",
       "  <tbody>\n",
       "    <tr>\n",
       "      <th>0</th>\n",
       "      <td>0</td>\n",
       "      <td>3</td>\n",
       "      <td>-LRB- The film -RRB- tackles the topic of rela...</td>\n",
       "      <td>[film, tackles, topic, relationships, straight...</td>\n",
       "      <td>[101, 1011, 1048, 15185, 1011, 1996, 2143, 101...</td>\n",
       "    </tr>\n",
       "    <tr>\n",
       "      <th>1</th>\n",
       "      <td>1</td>\n",
       "      <td>2</td>\n",
       "      <td>Lavishly , exhilaratingly tasteless .</td>\n",
       "      <td>[lavishly, exhilaratingly, tasteless]</td>\n",
       "      <td>[101, 22689, 2135, 1010, 4654, 26415, 15172, 2...</td>\n",
       "    </tr>\n",
       "    <tr>\n",
       "      <th>2</th>\n",
       "      <td>2</td>\n",
       "      <td>4</td>\n",
       "      <td>It is also beautifully acted .</td>\n",
       "      <td>[also, beautifully, acted]</td>\n",
       "      <td>[101, 2009, 2003, 2036, 17950, 6051, 1012, 102]</td>\n",
       "    </tr>\n",
       "    <tr>\n",
       "      <th>3</th>\n",
       "      <td>3</td>\n",
       "      <td>1</td>\n",
       "      <td>But , like Silence , it 's a movie that gets u...</td>\n",
       "      <td>[like, silence, 's, movie, gets, skin]</td>\n",
       "      <td>[101, 2021, 1010, 2066, 4223, 1010, 2009, 1005...</td>\n",
       "    </tr>\n",
       "    <tr>\n",
       "      <th>4</th>\n",
       "      <td>4</td>\n",
       "      <td>2</td>\n",
       "      <td>It 's been made with an innocent yet fervid co...</td>\n",
       "      <td>['s, made, innocent, yet, fervid, conviction, ...</td>\n",
       "      <td>[101, 2009, 1005, 1055, 2042, 2081, 2007, 2019...</td>\n",
       "    </tr>\n",
       "  </tbody>\n",
       "</table>\n",
       "</div>"
      ],
      "text/plain": [
       "   Id  Category                                           Sentence  \\\n",
       "0   0         3  -LRB- The film -RRB- tackles the topic of rela...   \n",
       "1   1         2              Lavishly , exhilaratingly tasteless .   \n",
       "2   2         4                     It is also beautifully acted .   \n",
       "3   3         1  But , like Silence , it 's a movie that gets u...   \n",
       "4   4         2  It 's been made with an innocent yet fervid co...   \n",
       "\n",
       "                                               Token  \\\n",
       "0  [film, tackles, topic, relationships, straight...   \n",
       "1              [lavishly, exhilaratingly, tasteless]   \n",
       "2                         [also, beautifully, acted]   \n",
       "3             [like, silence, 's, movie, gets, skin]   \n",
       "4  ['s, made, innocent, yet, fervid, conviction, ...   \n",
       "\n",
       "                                           BERTToken  \n",
       "0  [101, 1011, 1048, 15185, 1011, 1996, 2143, 101...  \n",
       "1  [101, 22689, 2135, 1010, 4654, 26415, 15172, 2...  \n",
       "2    [101, 2009, 2003, 2036, 17950, 6051, 1012, 102]  \n",
       "3  [101, 2021, 1010, 2066, 4223, 1010, 2009, 1005...  \n",
       "4  [101, 2009, 1005, 1055, 2042, 2081, 2007, 2019...  "
      ]
     },
     "execution_count": 45,
     "metadata": {},
     "output_type": "execute_result"
    }
   ],
   "source": [
    "df.head()"
   ]
  },
  {
   "cell_type": "code",
   "execution_count": 46,
   "id": "345d27b9",
   "metadata": {},
   "outputs": [],
   "source": [
    "df.to_csv(output_data, index=False)"
   ]
  },
  {
   "cell_type": "code",
   "execution_count": null,
   "id": "623266c3",
   "metadata": {},
   "outputs": [],
   "source": []
  }
 ],
 "metadata": {
  "kernelspec": {
   "display_name": "Python 3",
   "language": "python",
   "name": "python3"
  },
  "language_info": {
   "codemirror_mode": {
    "name": "ipython",
    "version": 3
   },
   "file_extension": ".py",
   "mimetype": "text/x-python",
   "name": "python",
   "nbconvert_exporter": "python",
   "pygments_lexer": "ipython3",
   "version": "3.8.8"
  }
 },
 "nbformat": 4,
 "nbformat_minor": 5
}
